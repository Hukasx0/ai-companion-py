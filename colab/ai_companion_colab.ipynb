{
  "cells": [
    {
      "cell_type": "code",
      "execution_count": null,
      "metadata": {},
      "outputs": [],
      "source": [
        "# Preparation\n",
        "\n",
        "!pip install ai-companion-py\n",
        "\n",
        "import os\n",
        "import urllib.request\n",
        "\n",
        "AI_MODEL_LINK = \"https://huggingface.co/TheBloke/Wizard-Vicuna-7B-Uncensored-GGML/resolve/main/Wizard-Vicuna-7B-Uncensored.ggmlv3.q4_K_M.bin\"\n",
        "\n",
        "os.makedirs(\"models/\", exist_ok=True)\n",
        "urllib.request.urlretrieve(AI_MODEL_LINK, \"models/Wizard-Vicuna-7B.bin\")\n"
      ]
    },
    {
      "cell_type": "code",
      "execution_count": null,
      "metadata": {
        "id": "C3i_ynwk_uaP"
      },
      "outputs": [],
      "source": [
        "# Companion data\n",
        "\n",
        "COMPANION_NAME = \"Assistant\"\n",
        "COMPANION_PERSONA = \"{{char}} is an artificial intelligence chatbot designed to help {{user}}. {{char}} is an artificial intelligence created in ai-companion backend\"\n",
        "EXAMPLE_DIALOGUE = \"\"\"\n",
        "{{user}}: What is ai-companion?\n",
        "{{char}}: AI Companion is a project that aims to provide users with their own personal AI chatbot on their computer. It allows users to engage in friendly and natural conversations with their AI, creating a unique and personalized experience. This software can also be used as a backend or API for other projects that require a personalised AI chatbot.\n",
        "{{user}}: Can you tell me about the creator of ai-companion?\n",
        "{{char}}: the creator of the ai-companion program is 'Hubert Kasperek', he is a young programmer from Poland who is mostly interested in: web development (Backend), cybersecurity and computer science concepts\n",
        "\"\"\"\n",
        "FIRST_MESSAGE = \"Hello {{user}}, how can i help you?\"\n",
        "\n",
        "# Settings\n",
        "\n",
        "LONG_TERM_MEMORY_LIMIT = 0\n",
        "SHORT_TERM_MEMORY_LIMIT = 1\n",
        "ROLEPLAY = True\n",
        "\n",
        "# User data\n",
        "\n",
        "USER_NAME = \"user\"\n",
        "USER_PERSONA = \"{{user}} is chatting with {{char}} using ai-companion python library\"\n",
        "\n",
        "\n",
        "import ai_companion_py\n",
        "\n",
        "character = ai_companion_py.init()\n",
        "character.load_model(\"models/Wizard-Vicuna-7B.bin\")\n",
        "\n",
        "character.change_companion_data(COMPANION_NAME, COMPANION_PERSONA, EXAMPLE_DIALOGUE, FIRST_MESSAGE, LONG_TERM_MEMORY_LIMIT, SHORT_TERM_MEMORY_LIMIT, ROLEPLAY)\n",
        "character.change_user_data(USER_NAME, USER_PERSONA)"
      ]
    },
    {
      "cell_type": "code",
      "execution_count": null,
      "metadata": {
        "id": "Vhmt-lmWBWlH"
      },
      "outputs": [],
      "source": [
        "import ai_companion_py\n",
        "\n",
        "character = ai_companion_py.init()\n",
        "character.load_model(\"models/Wizard-Vicuna-7B.bin\")\n",
        "\n",
        "user_input = input(\"Your prompt to ai: \")\n",
        "response = character.prompt(user_input)\n",
        "print(COMPANION_NAME+\": \"+response)"
      ]
    }
  ],
  "metadata": {
    "colab": {
      "provenance": []
    },
    "kernelspec": {
      "display_name": "Python 3",
      "name": "python3"
    },
    "language_info": {
      "name": "python"
    }
  },
  "nbformat": 4,
  "nbformat_minor": 0
}
